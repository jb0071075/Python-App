{
  "nbformat": 4,
  "nbformat_minor": 0,
  "metadata": {
    "colab": {
      "name": "PrimeNumber.ipynb",
      "provenance": [],
      "authorship_tag": "ABX9TyMffY3/TS4zaDk0sk9u4w/A",
      "include_colab_link": true
    },
    "kernelspec": {
      "name": "python3",
      "display_name": "Python 3"
    },
    "language_info": {
      "name": "python"
    }
  },
  "cells": [
    {
      "cell_type": "markdown",
      "metadata": {
        "id": "view-in-github",
        "colab_type": "text"
      },
      "source": [
        "<a href=\"https://colab.research.google.com/github/jb0071075/Python-App/blob/main/PrimeNumber.ipynb\" target=\"_parent\"><img src=\"https://colab.research.google.com/assets/colab-badge.svg\" alt=\"Open In Colab\"/></a>"
      ]
    },
    {
      "cell_type": "code",
      "metadata": {
        "colab": {
          "base_uri": "https://localhost:8080/"
        },
        "id": "3akdIp8WmJDL",
        "outputId": "a5358c19-7790-442e-b255-3010fa4e7483"
      },
      "source": [
        "n = int(input(\"Please enter a number :\"))\n",
        "primelist = []\n",
        "primelist1 = []\n",
        "for i in range(2,n+1):\n",
        "    if i > 2:\n",
        "        primelist=[]\n",
        "        for j in range(2,i):\n",
        "            if i%j==0:\n",
        "                primelist.append(i)\n",
        "                break\n",
        "    if len(primelist)==0:\n",
        "        primelist1.append(i)\n",
        "print(primelist1)"
      ],
      "execution_count": 1,
      "outputs": [
        {
          "output_type": "stream",
          "name": "stdout",
          "text": [
            "Please enter a number :100\n",
            "[2, 3, 5, 7, 11, 13, 17, 19, 23, 29, 31, 37, 41, 43, 47, 53, 59, 61, 67, 71, 73, 79, 83, 89, 97]\n"
          ]
        }
      ]
    }
  ]
}